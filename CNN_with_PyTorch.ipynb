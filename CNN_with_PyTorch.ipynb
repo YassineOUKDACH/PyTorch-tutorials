{
 "cells": [
  {
   "cell_type": "code",
   "execution_count": 2,
   "metadata": {},
   "outputs": [],
   "source": [
    "import torch \n",
    "import torchvision\n",
    "from torchvision import datasets, transforms"
   ]
  },
  {
   "cell_type": "markdown",
   "metadata": {},
   "source": [
    "For this tutorail, we will use the CIFAR10 dataset <br>\n",
    "<h3>We will do the following steps in order</h3> <br>\n",
    "<li>Load and normalize the dataset using torchvision </li>\n",
    "<li>Difine a CNN </li>\n",
    "<li>Difine a loss function </li>\n",
    "<li>Training the network on the training </li>\n",
    "<li>Test the network on the test data </li> <br>\n",
    "The output of torchvesion dataset are PILimages of [0, 1]. We transfrom them to tensors of normalized range [-1, 1]"
   ]
  },
  {
   "cell_type": "code",
   "execution_count": null,
   "metadata": {},
   "outputs": [],
   "source": [
    "transform = transforms.Compose(\n",
    "    [transforms.ToTensor(), \n",
    "     transforms.Normalize((0.5, 0.5, 0.5), (0.5, 0.5, 0.5))]\n",
    ")\n",
    "batch_size = 4\n",
    "trainset = torchvision.datasets.CIFAR10(root = './data', train = True, download = True, transform = transform\n",
    ")\n",
    "trainloder = torch.utils.data.DataLoader(trainset, batch_size = batch_size, shuffle = True, num_workers = 2)\n",
    "\n",
    "testset = torchvision.datasets.CIFAR10(root = './data', train = False, download = True, transform = transform)\n",
    "testloader = torch.utils.data.DataLoader(testset, batch_size = batch_size, shuffle = True, num_workers = 2 )\n",
    "\n",
    "# difine the classes \n",
    "\n",
    "classes = ('plane', 'car', 'bird', 'cat',\n",
    "           'deer', 'dog', \n",
    "           'frog', 'horse', \n",
    "           'ship', 'truck')"
   ]
  },
  {
   "cell_type": "code",
   "execution_count": null,
   "metadata": {},
   "outputs": [],
   "source": [
    "import matplotlib.pyplot as plt \n",
    "import numpy as np \n",
    "# function to show an image \n",
    "\n",
    "def imshow(img): \n",
    "    img = img / 2 + 0.5\n",
    "    npimg = img.numpy()\n",
    "    plt.imshow(np.transpose(npimg, (1, 2, 0)))\n",
    "    plt.imshow()\n",
    "    \n",
    "# get some random training images \n",
    "dataiter = iter(trainloder)\n",
    "images, labels = dataiter.next()\n",
    "#show images \n",
    "\n",
    "imshow(torchvision.utils.make_grid(images))\n",
    "# print label \n",
    "\n",
    "print(' '.join(f'{classes[labels[j]]:5s}' for j in range(batch_size)))\n"
   ]
  },
  {
   "cell_type": "markdown",
   "metadata": {},
   "source": [
    "<h2> Define a Convolutuion Neural network </h2>"
   ]
  },
  {
   "cell_type": "code",
   "execution_count": null,
   "metadata": {},
   "outputs": [],
   "source": [
    "import torch.nn as nn \n",
    "import torch.nn.functional as F\n",
    "\n",
    "\n",
    "class Net(nn.Module):\n",
    "    def __init__(self):\n",
    "        super.__inint___()\n",
    "        self.conv1 = nn.Conv1d(3, 6, 5)\n",
    "        self.pool  = nn.MaxPool2d(2, 2)\n",
    "        self.conv2 =  nn.Conv2d(6, 16, 5)\n",
    "        self.fct1  = nn.Linear(16*5*5, 120)\n",
    "        self.fct2  = nn.Linear(120, 84)\n",
    "        self.fct3  = nn.Linear(84, 10)\n",
    "        \n",
    "    def forward(self, x): \n",
    "        x = self.pool(F.relu(self.conv1(x)))\n",
    "        x = self.pool(F.relu(self.conv2(x)))\n",
    "        x = torch.flatten(x, 1) # flatten all dimensions exepet batch\n",
    "        x = F.relu(self.fct1(x))\n",
    "        x = F.relu(self.fct2(x))\n",
    "        x = self.fct3(x)\n",
    "        return x\n",
    "    \n",
    "net = Net()"
   ]
  },
  {
   "cell_type": "markdown",
   "metadata": {},
   "source": [
    "<h2> Define a loss funcation and optimzer <h1><br>\n"
   ]
  },
  {
   "cell_type": "code",
   "execution_count": null,
   "metadata": {},
   "outputs": [],
   "source": [
    "import torch.optim as optimzer \n",
    "#  We will use a classification Cross-Entropy loss and SGD momentum\n",
    "criterion = nn.CrossEntropyLoss()\n",
    "optimzer = optimzer.SGD(net.parameters, lr = 0.001, momentum = 0.9)"
   ]
  },
  {
   "cell_type": "code",
   "execution_count": null,
   "metadata": {},
   "outputs": [],
   "source": [
    "for epoch in range(2): \n",
    "    running_loss = 0.0\n",
    "    \n",
    "    for i, data in enumerate(trainloder, 0):\n",
    "        print('strat training ...')\n",
    "        # get the inputs and labels; data is a list of [inputs, labels]\n",
    "        inputs, labels = data\n",
    "        \n",
    "        #zero the parameters gradients \n",
    "        optimzer.zero_grad()\n",
    "        outputs = net(inputs)\n",
    "        loss = criterion(outputs, labels)\n",
    "        loss.backward()\n",
    "        optimzer.step()\n",
    "        # print statistics \n",
    "        running_loss += loss.item()\n",
    "        if i % 2000 == 1999:\n",
    "            # print every 2000 minibatches\n",
    "            print(f'[{epoch + 1}, {i + 1:5d}] loss: {running_loss / 2000:.3f}')\n",
    "\n",
    "print('Finished training.')\n",
    "                 \n"
   ]
  },
  {
   "cell_type": "code",
   "execution_count": null,
   "metadata": {},
   "outputs": [],
   "source": [
    "# save the model \n",
    "PATH = './cifar_net.pth'\n",
    "torch.save(net.state_dict(), PATH)"
   ]
  },
  {
   "cell_type": "markdown",
   "metadata": {},
   "source": [
    "<h2>Test the network on the test datast </h2>"
   ]
  },
  {
   "cell_type": "markdown",
   "metadata": {},
   "source": [
    "We have trained the network for 2 pass over the training dataset. But we need to check if the network <br>\n",
    "has learnt anything at all. <br>\n",
    "<br>\n",
    "We will check this by predicting the class label that the neural netowk outputs, and cheking it against<br>\n",
    "the ground-truth. If the prediction is correct, we add the sample of the list of correct prediction.<br>"
   ]
  },
  {
   "cell_type": "code",
   "execution_count": null,
   "metadata": {},
   "outputs": [],
   "source": [
    "dataiter = iter(testloader)\n",
    "\n",
    "images, labels = dataiter.next()\n",
    "#print images \n",
    "imshow(torchvision.utils.make_grid(images))\n",
    "print('GroundTruth: ', ' '.join(f'{classes[labels[j]]:5s}' for j in range(4)))"
   ]
  },
  {
   "cell_type": "code",
   "execution_count": null,
   "metadata": {},
   "outputs": [],
   "source": [
    "#  let’s load back in our saved model\n",
    "\n",
    "net = Net()\n",
    "net.load_state_dict(torch.load(PATH))"
   ]
  },
  {
   "cell_type": "code",
   "execution_count": null,
   "metadata": {},
   "outputs": [],
   "source": [
    "outputs = net(images)"
   ]
  }
 ],
 "metadata": {
  "kernelspec": {
   "display_name": "Python 3.10.0 ('pytroch_env': venv)",
   "language": "python",
   "name": "python3"
  },
  "language_info": {
   "codemirror_mode": {
    "name": "ipython",
    "version": 3
   },
   "file_extension": ".py",
   "mimetype": "text/x-python",
   "name": "python",
   "nbconvert_exporter": "python",
   "pygments_lexer": "ipython3",
   "version": "3.10.0"
  },
  "orig_nbformat": 4,
  "vscode": {
   "interpreter": {
    "hash": "dc2563e26d13db8090b2c6cef882d0698da77ae6f4e44d3eaa3932cd14584791"
   }
  }
 },
 "nbformat": 4,
 "nbformat_minor": 2
}
